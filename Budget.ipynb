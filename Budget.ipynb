{
 "cells": [
  {
   "cell_type": "code",
   "execution_count": 1,
   "id": "37c4e9f8-5669-4416-8f5d-d7b7a4d3fe88",
   "metadata": {},
   "outputs": [],
   "source": [
    "wants = {}\n",
    "needs = {}"
   ]
  },
  {
   "cell_type": "code",
   "execution_count": 2,
   "id": "08a7e217-51a5-4faa-81b3-ad544a82fe3d",
   "metadata": {},
   "outputs": [],
   "source": [
    "savings = 0\n",
    "budget = 0"
   ]
  },
  {
   "cell_type": "code",
   "execution_count": 3,
   "id": "ff303138-af86-4638-a9ab-464c4a94394f",
   "metadata": {},
   "outputs": [],
   "source": [
    "def needs_wants():\n",
    "    print(\"\\n\\n***Please enter a list of your needs****\")\n",
    "    print(\"Priority will be marked on a scale of 0-10 and 10 has highest value\")\n",
    "    size = int(input(\"\\nEnter the number of needs you have\"))\n",
    "    for i in range(1, size + 1):\n",
    "        print(\"Enter the Need Name, Priority, Price\")\n",
    "        need, priority, price = (map(str, input().split()))\n",
    "        needs[int(priority)]=[need, int(price)]\n",
    "    print(\"\\n\\n***Please enter a list of your wantss****\")\n",
    "    print(\"Priority will be marked on a scale of 0-10 and 10 has highest value\")\n",
    "    size = int(input(\"\\nEnter the number of wants you have\"))\n",
    "    for i in range(1, size + 1):\n",
    "        print(\"Enter the Want Name, Priority, Price\")\n",
    "        want, priority, price = (map(str, input().split()))\n",
    "        needs[int(priority)]=[need, int(price)]"
   ]
  },
  {
   "cell_type": "code",
   "execution_count": 4,
   "id": "26266c8f-8425-45c4-aa84-dd359adc6c32",
   "metadata": {},
   "outputs": [
    {
     "name": "stdin",
     "output_type": "stream",
     "text": [
      " 2, 3, 4\n"
     ]
    }
   ],
   "source": [
    "a,b,c = (map(str, input().split()))"
   ]
  },
  {
   "cell_type": "code",
   "execution_count": 5,
   "id": "e1fc725b-3c7b-48ae-8795-56f10e603940",
   "metadata": {},
   "outputs": [
    {
     "name": "stdout",
     "output_type": "stream",
     "text": [
      "2, 3, 4\n"
     ]
    }
   ],
   "source": [
    "print(a,b,c)"
   ]
  },
  {
   "cell_type": "code",
   "execution_count": 4,
   "id": "265d6b10-7103-47f5-a07c-cf0e60ed1b50",
   "metadata": {},
   "outputs": [],
   "source": [
    "j = 345"
   ]
  },
  {
   "cell_type": "code",
   "execution_count": 5,
   "id": "f9413313-759d-43c2-ac46-1261b4bed9c9",
   "metadata": {},
   "outputs": [
    {
     "data": {
      "text/plain": [
       "345"
      ]
     },
     "execution_count": 5,
     "metadata": {},
     "output_type": "execute_result"
    }
   ],
   "source": [
    "j"
   ]
  },
  {
   "cell_type": "markdown",
   "id": "792d46c0-5a39-4afe-a1e5-8ddcb283bd29",
   "metadata": {},
   "source": [
    "#working on budget app"
   ]
  }
 ],
 "metadata": {
  "kernelspec": {
   "display_name": "Python 3 (ipykernel)",
   "language": "python",
   "name": "python3"
  },
  "language_info": {
   "codemirror_mode": {
    "name": "ipython",
    "version": 3
   },
   "file_extension": ".py",
   "mimetype": "text/x-python",
   "name": "python",
   "nbconvert_exporter": "python",
   "pygments_lexer": "ipython3",
   "version": "3.9.13"
  }
 },
 "nbformat": 4,
 "nbformat_minor": 5
}
